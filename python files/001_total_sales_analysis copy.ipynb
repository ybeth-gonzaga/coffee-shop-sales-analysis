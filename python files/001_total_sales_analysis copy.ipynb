{
 "cells": [
  {
   "cell_type": "markdown",
   "metadata": {},
   "source": [
    "### Fetch the dataset"
   ]
  },
  {
   "cell_type": "code",
   "execution_count": 134,
   "metadata": {},
   "outputs": [
    {
     "data": {
      "text/html": [
       "<div>\n",
       "<style scoped>\n",
       "    .dataframe tbody tr th:only-of-type {\n",
       "        vertical-align: middle;\n",
       "    }\n",
       "\n",
       "    .dataframe tbody tr th {\n",
       "        vertical-align: top;\n",
       "    }\n",
       "\n",
       "    .dataframe thead th {\n",
       "        text-align: right;\n",
       "    }\n",
       "</style>\n",
       "<table border=\"1\" class=\"dataframe\">\n",
       "  <thead>\n",
       "    <tr style=\"text-align: right;\">\n",
       "      <th></th>\n",
       "      <th>Unnamed: 0</th>\n",
       "      <th>transaction_id</th>\n",
       "      <th>transaction_date</th>\n",
       "      <th>transaction_time</th>\n",
       "      <th>transaction_qty</th>\n",
       "      <th>store_id</th>\n",
       "      <th>store_location</th>\n",
       "      <th>product_id</th>\n",
       "      <th>unit_price</th>\n",
       "      <th>product_category</th>\n",
       "      <th>product_type</th>\n",
       "      <th>product_detail</th>\n",
       "      <th>transaction_month</th>\n",
       "    </tr>\n",
       "  </thead>\n",
       "  <tbody>\n",
       "    <tr>\n",
       "      <th>0</th>\n",
       "      <td>0</td>\n",
       "      <td>1</td>\n",
       "      <td>2023-01-01</td>\n",
       "      <td>07:06:11</td>\n",
       "      <td>2</td>\n",
       "      <td>5</td>\n",
       "      <td>Lower Manhattan</td>\n",
       "      <td>32</td>\n",
       "      <td>3.0</td>\n",
       "      <td>Coffee</td>\n",
       "      <td>Gourmet brewed coffee</td>\n",
       "      <td>Ethiopia Rg</td>\n",
       "      <td>1</td>\n",
       "    </tr>\n",
       "    <tr>\n",
       "      <th>1</th>\n",
       "      <td>1</td>\n",
       "      <td>2</td>\n",
       "      <td>2023-01-01</td>\n",
       "      <td>07:08:56</td>\n",
       "      <td>2</td>\n",
       "      <td>5</td>\n",
       "      <td>Lower Manhattan</td>\n",
       "      <td>57</td>\n",
       "      <td>3.1</td>\n",
       "      <td>Tea</td>\n",
       "      <td>Brewed Chai tea</td>\n",
       "      <td>Spicy Eye Opener Chai Lg</td>\n",
       "      <td>1</td>\n",
       "    </tr>\n",
       "    <tr>\n",
       "      <th>2</th>\n",
       "      <td>2</td>\n",
       "      <td>3</td>\n",
       "      <td>2023-01-01</td>\n",
       "      <td>07:14:04</td>\n",
       "      <td>2</td>\n",
       "      <td>5</td>\n",
       "      <td>Lower Manhattan</td>\n",
       "      <td>59</td>\n",
       "      <td>4.5</td>\n",
       "      <td>Drinking Chocolate</td>\n",
       "      <td>Hot chocolate</td>\n",
       "      <td>Dark chocolate Lg</td>\n",
       "      <td>1</td>\n",
       "    </tr>\n",
       "    <tr>\n",
       "      <th>3</th>\n",
       "      <td>3</td>\n",
       "      <td>4</td>\n",
       "      <td>2023-01-01</td>\n",
       "      <td>07:20:24</td>\n",
       "      <td>1</td>\n",
       "      <td>5</td>\n",
       "      <td>Lower Manhattan</td>\n",
       "      <td>22</td>\n",
       "      <td>2.0</td>\n",
       "      <td>Coffee</td>\n",
       "      <td>Drip coffee</td>\n",
       "      <td>Our Old Time Diner Blend Sm</td>\n",
       "      <td>1</td>\n",
       "    </tr>\n",
       "    <tr>\n",
       "      <th>4</th>\n",
       "      <td>4</td>\n",
       "      <td>5</td>\n",
       "      <td>2023-01-01</td>\n",
       "      <td>07:22:41</td>\n",
       "      <td>2</td>\n",
       "      <td>5</td>\n",
       "      <td>Lower Manhattan</td>\n",
       "      <td>57</td>\n",
       "      <td>3.1</td>\n",
       "      <td>Tea</td>\n",
       "      <td>Brewed Chai tea</td>\n",
       "      <td>Spicy Eye Opener Chai Lg</td>\n",
       "      <td>1</td>\n",
       "    </tr>\n",
       "  </tbody>\n",
       "</table>\n",
       "</div>"
      ],
      "text/plain": [
       "   Unnamed: 0  transaction_id transaction_date transaction_time  \\\n",
       "0           0               1       2023-01-01         07:06:11   \n",
       "1           1               2       2023-01-01         07:08:56   \n",
       "2           2               3       2023-01-01         07:14:04   \n",
       "3           3               4       2023-01-01         07:20:24   \n",
       "4           4               5       2023-01-01         07:22:41   \n",
       "\n",
       "   transaction_qty  store_id   store_location  product_id  unit_price  \\\n",
       "0                2         5  Lower Manhattan          32         3.0   \n",
       "1                2         5  Lower Manhattan          57         3.1   \n",
       "2                2         5  Lower Manhattan          59         4.5   \n",
       "3                1         5  Lower Manhattan          22         2.0   \n",
       "4                2         5  Lower Manhattan          57         3.1   \n",
       "\n",
       "     product_category           product_type               product_detail  \\\n",
       "0              Coffee  Gourmet brewed coffee                  Ethiopia Rg   \n",
       "1                 Tea        Brewed Chai tea     Spicy Eye Opener Chai Lg   \n",
       "2  Drinking Chocolate          Hot chocolate            Dark chocolate Lg   \n",
       "3              Coffee            Drip coffee  Our Old Time Diner Blend Sm   \n",
       "4                 Tea        Brewed Chai tea     Spicy Eye Opener Chai Lg   \n",
       "\n",
       "   transaction_month  \n",
       "0                  1  \n",
       "1                  1  \n",
       "2                  1  \n",
       "3                  1  \n",
       "4                  1  "
      ]
     },
     "execution_count": 134,
     "metadata": {},
     "output_type": "execute_result"
    }
   ],
   "source": [
    "import pandas as pd\n",
    "\n",
    "df = pd.read_csv(\"clean_coffee_shop_sales.csv\")\n",
    "df.head()"
   ]
  },
  {
   "cell_type": "code",
   "execution_count": 135,
   "metadata": {},
   "outputs": [
    {
     "name": "stdout",
     "output_type": "stream",
     "text": [
      "<class 'pandas.core.frame.DataFrame'>\n",
      "RangeIndex: 149116 entries, 0 to 149115\n",
      "Data columns (total 13 columns):\n",
      " #   Column             Non-Null Count   Dtype  \n",
      "---  ------             --------------   -----  \n",
      " 0   Unnamed: 0         149116 non-null  int64  \n",
      " 1   transaction_id     149116 non-null  int64  \n",
      " 2   transaction_date   149116 non-null  object \n",
      " 3   transaction_time   149116 non-null  object \n",
      " 4   transaction_qty    149116 non-null  int64  \n",
      " 5   store_id           149116 non-null  int64  \n",
      " 6   store_location     149116 non-null  object \n",
      " 7   product_id         149116 non-null  int64  \n",
      " 8   unit_price         149116 non-null  float64\n",
      " 9   product_category   149116 non-null  object \n",
      " 10  product_type       149116 non-null  object \n",
      " 11  product_detail     149116 non-null  object \n",
      " 12  transaction_month  149116 non-null  int64  \n",
      "dtypes: float64(1), int64(6), object(6)\n",
      "memory usage: 14.8+ MB\n"
     ]
    }
   ],
   "source": [
    "df.info()"
   ]
  },
  {
   "cell_type": "markdown",
   "metadata": {},
   "source": [
    "### Create a new dataset"
   ]
  },
  {
   "cell_type": "code",
   "execution_count": 136,
   "metadata": {},
   "outputs": [
    {
     "data": {
      "text/plain": [
       "array([1, 2, 3, 4, 5, 6], dtype=int64)"
      ]
     },
     "execution_count": 136,
     "metadata": {},
     "output_type": "execute_result"
    }
   ],
   "source": [
    "month = df['transaction_month'].unique()\n",
    "month"
   ]
  },
  {
   "cell_type": "code",
   "execution_count": 137,
   "metadata": {},
   "outputs": [],
   "source": [
    "data = {\n",
    "    'transaction_month': month\n",
    "}\n",
    "\n",
    "df_monthly = pd.DataFrame(data)"
   ]
  },
  {
   "cell_type": "code",
   "execution_count": 138,
   "metadata": {},
   "outputs": [
    {
     "data": {
      "text/html": [
       "<div>\n",
       "<style scoped>\n",
       "    .dataframe tbody tr th:only-of-type {\n",
       "        vertical-align: middle;\n",
       "    }\n",
       "\n",
       "    .dataframe tbody tr th {\n",
       "        vertical-align: top;\n",
       "    }\n",
       "\n",
       "    .dataframe thead th {\n",
       "        text-align: right;\n",
       "    }\n",
       "</style>\n",
       "<table border=\"1\" class=\"dataframe\">\n",
       "  <thead>\n",
       "    <tr style=\"text-align: right;\">\n",
       "      <th></th>\n",
       "      <th>transaction_month</th>\n",
       "    </tr>\n",
       "  </thead>\n",
       "  <tbody>\n",
       "    <tr>\n",
       "      <th>0</th>\n",
       "      <td>1</td>\n",
       "    </tr>\n",
       "    <tr>\n",
       "      <th>1</th>\n",
       "      <td>2</td>\n",
       "    </tr>\n",
       "    <tr>\n",
       "      <th>2</th>\n",
       "      <td>3</td>\n",
       "    </tr>\n",
       "    <tr>\n",
       "      <th>3</th>\n",
       "      <td>4</td>\n",
       "    </tr>\n",
       "    <tr>\n",
       "      <th>4</th>\n",
       "      <td>5</td>\n",
       "    </tr>\n",
       "    <tr>\n",
       "      <th>5</th>\n",
       "      <td>6</td>\n",
       "    </tr>\n",
       "  </tbody>\n",
       "</table>\n",
       "</div>"
      ],
      "text/plain": [
       "   transaction_month\n",
       "0                  1\n",
       "1                  2\n",
       "2                  3\n",
       "3                  4\n",
       "4                  5\n",
       "5                  6"
      ]
     },
     "execution_count": 138,
     "metadata": {},
     "output_type": "execute_result"
    }
   ],
   "source": [
    "df_monthly"
   ]
  },
  {
   "cell_type": "markdown",
   "metadata": {},
   "source": [
    "### Calculate the total sales for each respective month."
   ]
  },
  {
   "cell_type": "code",
   "execution_count": 139,
   "metadata": {},
   "outputs": [],
   "source": [
    "# create a function that solves for the total sales in a given month and year\n",
    "def total_monthly_sales (month):\n",
    "    try:\n",
    "        # Filter the DataFrame for the specified month and year\n",
    "        subset_df = df[df['transaction_month'] == month]\n",
    "\n",
    "        # Calculate the total sales and round it to 2 decimal places\n",
    "        total_sales = (subset_df['unit_price']*subset_df['transaction_qty']).sum()\n",
    "        total_sales = round(total_sales, 2)\n",
    "\n",
    "        return total_sales\n",
    "    \n",
    "    except Exception as e:\n",
    "        print(f\"An error occured: {str(e)}\")\n",
    "        return None"
   ]
  },
  {
   "cell_type": "code",
   "execution_count": 140,
   "metadata": {},
   "outputs": [
    {
     "data": {
      "text/plain": [
       "156727.76"
      ]
     },
     "execution_count": 140,
     "metadata": {},
     "output_type": "execute_result"
    }
   ],
   "source": [
    "# try using the function\n",
    "total_monthly_sales (5)"
   ]
  },
  {
   "cell_type": "code",
   "execution_count": 141,
   "metadata": {},
   "outputs": [],
   "source": [
    "# Initialize an empty list to store total sales for each month\n",
    "total_sales = []\n",
    "\n",
    "# Iterate over each row in the DataFrame df_monthly using iterrows()\n",
    "for index, row in df_monthly.iterrows():\n",
    "    # For each row, call the total_monthly_sales function with the current month\n",
    "    # This function calculates the total sales for the specified month\n",
    "    sales_for_month = total_monthly_sales(row['transaction_month'])\n",
    "    \n",
    "    # Append the result of the total sales for the current month to the total_sales list\n",
    "    total_sales.append(sales_for_month)\n",
    "\n",
    "# After the loop, add the total_sales list as a new column in the df_monthly DataFrame\n",
    "# This new column will contain the total sales for each corresponding month\n",
    "df_monthly['total_sales'] = total_sales"
   ]
  },
  {
   "cell_type": "code",
   "execution_count": 142,
   "metadata": {},
   "outputs": [
    {
     "data": {
      "text/html": [
       "<div>\n",
       "<style scoped>\n",
       "    .dataframe tbody tr th:only-of-type {\n",
       "        vertical-align: middle;\n",
       "    }\n",
       "\n",
       "    .dataframe tbody tr th {\n",
       "        vertical-align: top;\n",
       "    }\n",
       "\n",
       "    .dataframe thead th {\n",
       "        text-align: right;\n",
       "    }\n",
       "</style>\n",
       "<table border=\"1\" class=\"dataframe\">\n",
       "  <thead>\n",
       "    <tr style=\"text-align: right;\">\n",
       "      <th></th>\n",
       "      <th>transaction_month</th>\n",
       "      <th>total_sales</th>\n",
       "    </tr>\n",
       "  </thead>\n",
       "  <tbody>\n",
       "    <tr>\n",
       "      <th>0</th>\n",
       "      <td>1</td>\n",
       "      <td>81677.74</td>\n",
       "    </tr>\n",
       "    <tr>\n",
       "      <th>1</th>\n",
       "      <td>2</td>\n",
       "      <td>76145.19</td>\n",
       "    </tr>\n",
       "    <tr>\n",
       "      <th>2</th>\n",
       "      <td>3</td>\n",
       "      <td>98834.68</td>\n",
       "    </tr>\n",
       "    <tr>\n",
       "      <th>3</th>\n",
       "      <td>4</td>\n",
       "      <td>118941.08</td>\n",
       "    </tr>\n",
       "    <tr>\n",
       "      <th>4</th>\n",
       "      <td>5</td>\n",
       "      <td>156727.76</td>\n",
       "    </tr>\n",
       "    <tr>\n",
       "      <th>5</th>\n",
       "      <td>6</td>\n",
       "      <td>166485.88</td>\n",
       "    </tr>\n",
       "  </tbody>\n",
       "</table>\n",
       "</div>"
      ],
      "text/plain": [
       "   transaction_month  total_sales\n",
       "0                  1     81677.74\n",
       "1                  2     76145.19\n",
       "2                  3     98834.68\n",
       "3                  4    118941.08\n",
       "4                  5    156727.76\n",
       "5                  6    166485.88"
      ]
     },
     "execution_count": 142,
     "metadata": {},
     "output_type": "execute_result"
    }
   ],
   "source": [
    "df_monthly"
   ]
  },
  {
   "cell_type": "markdown",
   "metadata": {},
   "source": [
    "### Calculate the difference in sales between the selected month and the previous month."
   ]
  },
  {
   "cell_type": "markdown",
   "metadata": {},
   "source": [
    "Version 1:\n",
    "Create a function and manually get the monthly sales difference"
   ]
  },
  {
   "cell_type": "code",
   "execution_count": 143,
   "metadata": {},
   "outputs": [],
   "source": [
    "def monthly_sales_difference(month):\n",
    "    try:\n",
    "        # Check if the month is the first month (January)\n",
    "        if month == 1:\n",
    "            return None  # No previous month to compare, return None\n",
    "        else:\n",
    "            # Get total sales for the current month from the DataFrame\n",
    "            total_sales_current = df_monthly[df_monthly['transaction_month'] == month]['total_sales'].values[0]\n",
    "            \n",
    "            # Get total sales for the previous month from the DataFrame\n",
    "            total_sales_previous = df_monthly[df_monthly['transaction_month'] == month - 1]['total_sales'].values[0]\n",
    "\n",
    "            # Calculate the difference in sales between the current and previous month\n",
    "            sales_difference = total_sales_current - total_sales_previous\n",
    "            \n",
    "            # Round the sales difference to two decimal places\n",
    "            sales_difference = round(sales_difference, 2)\n",
    "            \n",
    "            # Return the computed sales difference\n",
    "            return sales_difference\n",
    "    except Exception as e:\n",
    "        # Print an error message if an exception occurs\n",
    "        print(f\"An error occurred: {str(e)}\")\n"
   ]
  },
  {
   "cell_type": "code",
   "execution_count": 144,
   "metadata": {},
   "outputs": [
    {
     "data": {
      "text/plain": [
       "[None, -5532.55, 22689.49, 20106.4, 37786.68, 9758.12]"
      ]
     },
     "execution_count": 144,
     "metadata": {},
     "output_type": "execute_result"
    }
   ],
   "source": [
    "# Initialize an empty list to store sales_difference for each month\n",
    "sales_difference = []\n",
    "\n",
    "# Iterate over each row in the DataFrame df_monthly using iterrows()\n",
    "for index, row in df_monthly.iterrows():\n",
    "    sales_difference_month = monthly_sales_difference(row['transaction_month'])\n",
    "    \n",
    "    sales_difference.append(sales_difference_month)\n",
    "\n",
    "sales_difference"
   ]
  },
  {
   "cell_type": "markdown",
   "metadata": {},
   "source": [
    "Version 2: Use the pandas function"
   ]
  },
  {
   "cell_type": "code",
   "execution_count": 145,
   "metadata": {},
   "outputs": [
    {
     "data": {
      "text/html": [
       "<div>\n",
       "<style scoped>\n",
       "    .dataframe tbody tr th:only-of-type {\n",
       "        vertical-align: middle;\n",
       "    }\n",
       "\n",
       "    .dataframe tbody tr th {\n",
       "        vertical-align: top;\n",
       "    }\n",
       "\n",
       "    .dataframe thead th {\n",
       "        text-align: right;\n",
       "    }\n",
       "</style>\n",
       "<table border=\"1\" class=\"dataframe\">\n",
       "  <thead>\n",
       "    <tr style=\"text-align: right;\">\n",
       "      <th></th>\n",
       "      <th>transaction_month</th>\n",
       "      <th>total_sales</th>\n",
       "      <th>sales_difference</th>\n",
       "    </tr>\n",
       "  </thead>\n",
       "  <tbody>\n",
       "    <tr>\n",
       "      <th>0</th>\n",
       "      <td>1</td>\n",
       "      <td>81677.74</td>\n",
       "      <td>NaN</td>\n",
       "    </tr>\n",
       "    <tr>\n",
       "      <th>1</th>\n",
       "      <td>2</td>\n",
       "      <td>76145.19</td>\n",
       "      <td>-5532.55</td>\n",
       "    </tr>\n",
       "    <tr>\n",
       "      <th>2</th>\n",
       "      <td>3</td>\n",
       "      <td>98834.68</td>\n",
       "      <td>22689.49</td>\n",
       "    </tr>\n",
       "    <tr>\n",
       "      <th>3</th>\n",
       "      <td>4</td>\n",
       "      <td>118941.08</td>\n",
       "      <td>20106.40</td>\n",
       "    </tr>\n",
       "    <tr>\n",
       "      <th>4</th>\n",
       "      <td>5</td>\n",
       "      <td>156727.76</td>\n",
       "      <td>37786.68</td>\n",
       "    </tr>\n",
       "    <tr>\n",
       "      <th>5</th>\n",
       "      <td>6</td>\n",
       "      <td>166485.88</td>\n",
       "      <td>9758.12</td>\n",
       "    </tr>\n",
       "  </tbody>\n",
       "</table>\n",
       "</div>"
      ],
      "text/plain": [
       "   transaction_month  total_sales  sales_difference\n",
       "0                  1     81677.74               NaN\n",
       "1                  2     76145.19          -5532.55\n",
       "2                  3     98834.68          22689.49\n",
       "3                  4    118941.08          20106.40\n",
       "4                  5    156727.76          37786.68\n",
       "5                  6    166485.88           9758.12"
      ]
     },
     "execution_count": 145,
     "metadata": {},
     "output_type": "execute_result"
    }
   ],
   "source": [
    "df_monthly['sales_difference'] = df_monthly['total_sales'].diff()\n",
    "df_monthly"
   ]
  },
  {
   "cell_type": "markdown",
   "metadata": {},
   "source": [
    "### Determine the month-on-month % increase or decrease in sales."
   ]
  },
  {
   "cell_type": "markdown",
   "metadata": {},
   "source": [
    "Version 1:"
   ]
  },
  {
   "cell_type": "code",
   "execution_count": 146,
   "metadata": {},
   "outputs": [],
   "source": [
    "def percent_change_monthly(month):\n",
    "    try:\n",
    "        # Check if the month is the first month (January)\n",
    "        if month == 1:\n",
    "            return None  # No previous month to compare, return None\n",
    "        else:\n",
    "            # Get total sales for the current month from the DataFrame\n",
    "            total_sales_current = df_monthly[df_monthly['transaction_month'] == month]['total_sales'].values[0]\n",
    "            \n",
    "            # Get total sales for the previous month from the DataFrame\n",
    "            total_sales_previous = df_monthly[df_monthly['transaction_month'] == month - 1]['total_sales'].values[0]\n",
    "\n",
    "            percent_change = ((total_sales_current-total_sales_previous)/total_sales_previous)*100\n",
    "            \n",
    "            # Round the sales percent difference to two decimal places\n",
    "            percent_change = round(percent_change, 2)\n",
    "            \n",
    "            # Return the computed sales percent difference\n",
    "            return percent_change\n",
    "    except Exception as e:\n",
    "        # Print an error message if an exception occurs\n",
    "        print(f\"An error occurred: {str(e)}\")\n"
   ]
  },
  {
   "cell_type": "code",
   "execution_count": 147,
   "metadata": {},
   "outputs": [
    {
     "data": {
      "text/plain": [
       "[None, -6.77, 29.8, 20.34, 31.77, 6.23]"
      ]
     },
     "execution_count": 147,
     "metadata": {},
     "output_type": "execute_result"
    }
   ],
   "source": [
    "# Initialize an empty list to store sales_difference for each month\n",
    "sales_percent_change = []\n",
    "\n",
    "# Iterate over each row in the DataFrame df_monthly using iterrows()\n",
    "for index, row in df_monthly.iterrows():\n",
    "    sales_percent_month = percent_change_monthly(row['transaction_month'])\n",
    "    \n",
    "    sales_percent_change.append(sales_percent_month)\n",
    "\n",
    "sales_percent_change"
   ]
  },
  {
   "cell_type": "markdown",
   "metadata": {},
   "source": [
    "Version 2:"
   ]
  },
  {
   "cell_type": "code",
   "execution_count": 148,
   "metadata": {},
   "outputs": [
    {
     "data": {
      "text/html": [
       "<div>\n",
       "<style scoped>\n",
       "    .dataframe tbody tr th:only-of-type {\n",
       "        vertical-align: middle;\n",
       "    }\n",
       "\n",
       "    .dataframe tbody tr th {\n",
       "        vertical-align: top;\n",
       "    }\n",
       "\n",
       "    .dataframe thead th {\n",
       "        text-align: right;\n",
       "    }\n",
       "</style>\n",
       "<table border=\"1\" class=\"dataframe\">\n",
       "  <thead>\n",
       "    <tr style=\"text-align: right;\">\n",
       "      <th></th>\n",
       "      <th>transaction_month</th>\n",
       "      <th>total_sales</th>\n",
       "      <th>sales_difference</th>\n",
       "      <th>sales_percent_change</th>\n",
       "    </tr>\n",
       "  </thead>\n",
       "  <tbody>\n",
       "    <tr>\n",
       "      <th>0</th>\n",
       "      <td>1</td>\n",
       "      <td>81677.74</td>\n",
       "      <td>NaN</td>\n",
       "      <td>NaN</td>\n",
       "    </tr>\n",
       "    <tr>\n",
       "      <th>1</th>\n",
       "      <td>2</td>\n",
       "      <td>76145.19</td>\n",
       "      <td>-5532.55</td>\n",
       "      <td>-6.773633</td>\n",
       "    </tr>\n",
       "    <tr>\n",
       "      <th>2</th>\n",
       "      <td>3</td>\n",
       "      <td>98834.68</td>\n",
       "      <td>22689.49</td>\n",
       "      <td>29.797667</td>\n",
       "    </tr>\n",
       "    <tr>\n",
       "      <th>3</th>\n",
       "      <td>4</td>\n",
       "      <td>118941.08</td>\n",
       "      <td>20106.40</td>\n",
       "      <td>20.343466</td>\n",
       "    </tr>\n",
       "    <tr>\n",
       "      <th>4</th>\n",
       "      <td>5</td>\n",
       "      <td>156727.76</td>\n",
       "      <td>37786.68</td>\n",
       "      <td>31.769242</td>\n",
       "    </tr>\n",
       "    <tr>\n",
       "      <th>5</th>\n",
       "      <td>6</td>\n",
       "      <td>166485.88</td>\n",
       "      <td>9758.12</td>\n",
       "      <td>6.226159</td>\n",
       "    </tr>\n",
       "  </tbody>\n",
       "</table>\n",
       "</div>"
      ],
      "text/plain": [
       "   transaction_month  total_sales  sales_difference  sales_percent_change\n",
       "0                  1     81677.74               NaN                   NaN\n",
       "1                  2     76145.19          -5532.55             -6.773633\n",
       "2                  3     98834.68          22689.49             29.797667\n",
       "3                  4    118941.08          20106.40             20.343466\n",
       "4                  5    156727.76          37786.68             31.769242\n",
       "5                  6    166485.88           9758.12              6.226159"
      ]
     },
     "execution_count": 148,
     "metadata": {},
     "output_type": "execute_result"
    }
   ],
   "source": [
    "df_monthly['sales_percent_change'] = df_monthly['total_sales'].pct_change() * 100  \n",
    "# Multiply by 100 to convert to percentage\n",
    "df_monthly"
   ]
  },
  {
   "cell_type": "markdown",
   "metadata": {},
   "source": [
    "### Export Monthly File"
   ]
  },
  {
   "cell_type": "code",
   "execution_count": 149,
   "metadata": {},
   "outputs": [],
   "source": [
    "df.to_csv(\"monthly_sales_summary.csv\")"
   ]
  }
 ],
 "metadata": {
  "kernelspec": {
   "display_name": "env",
   "language": "python",
   "name": "python3"
  },
  "language_info": {
   "codemirror_mode": {
    "name": "ipython",
    "version": 3
   },
   "file_extension": ".py",
   "mimetype": "text/x-python",
   "name": "python",
   "nbconvert_exporter": "python",
   "pygments_lexer": "ipython3",
   "version": "3.11.4"
  }
 },
 "nbformat": 4,
 "nbformat_minor": 2
}
