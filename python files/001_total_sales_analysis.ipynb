{
 "cells": [
  {
   "cell_type": "markdown",
   "metadata": {},
   "source": [
    "## Fetch the dataset"
   ]
  },
  {
   "cell_type": "code",
   "execution_count": 4,
   "metadata": {},
   "outputs": [
    {
     "data": {
      "text/html": [
       "<div>\n",
       "<style scoped>\n",
       "    .dataframe tbody tr th:only-of-type {\n",
       "        vertical-align: middle;\n",
       "    }\n",
       "\n",
       "    .dataframe tbody tr th {\n",
       "        vertical-align: top;\n",
       "    }\n",
       "\n",
       "    .dataframe thead th {\n",
       "        text-align: right;\n",
       "    }\n",
       "</style>\n",
       "<table border=\"1\" class=\"dataframe\">\n",
       "  <thead>\n",
       "    <tr style=\"text-align: right;\">\n",
       "      <th></th>\n",
       "      <th>Unnamed: 0</th>\n",
       "      <th>transaction_id</th>\n",
       "      <th>transaction_date</th>\n",
       "      <th>transaction_time</th>\n",
       "      <th>transaction_qty</th>\n",
       "      <th>store_id</th>\n",
       "      <th>store_location</th>\n",
       "      <th>product_id</th>\n",
       "      <th>unit_price</th>\n",
       "      <th>product_category</th>\n",
       "      <th>product_type</th>\n",
       "      <th>product_detail</th>\n",
       "    </tr>\n",
       "  </thead>\n",
       "  <tbody>\n",
       "    <tr>\n",
       "      <th>0</th>\n",
       "      <td>0</td>\n",
       "      <td>1</td>\n",
       "      <td>2023-01-01</td>\n",
       "      <td>07:06:11</td>\n",
       "      <td>2</td>\n",
       "      <td>5</td>\n",
       "      <td>Lower Manhattan</td>\n",
       "      <td>32</td>\n",
       "      <td>3.0</td>\n",
       "      <td>Coffee</td>\n",
       "      <td>Gourmet brewed coffee</td>\n",
       "      <td>Ethiopia Rg</td>\n",
       "    </tr>\n",
       "    <tr>\n",
       "      <th>1</th>\n",
       "      <td>1</td>\n",
       "      <td>2</td>\n",
       "      <td>2023-01-01</td>\n",
       "      <td>07:08:56</td>\n",
       "      <td>2</td>\n",
       "      <td>5</td>\n",
       "      <td>Lower Manhattan</td>\n",
       "      <td>57</td>\n",
       "      <td>3.1</td>\n",
       "      <td>Tea</td>\n",
       "      <td>Brewed Chai tea</td>\n",
       "      <td>Spicy Eye Opener Chai Lg</td>\n",
       "    </tr>\n",
       "    <tr>\n",
       "      <th>2</th>\n",
       "      <td>2</td>\n",
       "      <td>3</td>\n",
       "      <td>2023-01-01</td>\n",
       "      <td>07:14:04</td>\n",
       "      <td>2</td>\n",
       "      <td>5</td>\n",
       "      <td>Lower Manhattan</td>\n",
       "      <td>59</td>\n",
       "      <td>4.5</td>\n",
       "      <td>Drinking Chocolate</td>\n",
       "      <td>Hot chocolate</td>\n",
       "      <td>Dark chocolate Lg</td>\n",
       "    </tr>\n",
       "    <tr>\n",
       "      <th>3</th>\n",
       "      <td>3</td>\n",
       "      <td>4</td>\n",
       "      <td>2023-01-01</td>\n",
       "      <td>07:20:24</td>\n",
       "      <td>1</td>\n",
       "      <td>5</td>\n",
       "      <td>Lower Manhattan</td>\n",
       "      <td>22</td>\n",
       "      <td>2.0</td>\n",
       "      <td>Coffee</td>\n",
       "      <td>Drip coffee</td>\n",
       "      <td>Our Old Time Diner Blend Sm</td>\n",
       "    </tr>\n",
       "    <tr>\n",
       "      <th>4</th>\n",
       "      <td>4</td>\n",
       "      <td>5</td>\n",
       "      <td>2023-01-01</td>\n",
       "      <td>07:22:41</td>\n",
       "      <td>2</td>\n",
       "      <td>5</td>\n",
       "      <td>Lower Manhattan</td>\n",
       "      <td>57</td>\n",
       "      <td>3.1</td>\n",
       "      <td>Tea</td>\n",
       "      <td>Brewed Chai tea</td>\n",
       "      <td>Spicy Eye Opener Chai Lg</td>\n",
       "    </tr>\n",
       "  </tbody>\n",
       "</table>\n",
       "</div>"
      ],
      "text/plain": [
       "   Unnamed: 0  transaction_id transaction_date transaction_time  \\\n",
       "0           0               1       2023-01-01         07:06:11   \n",
       "1           1               2       2023-01-01         07:08:56   \n",
       "2           2               3       2023-01-01         07:14:04   \n",
       "3           3               4       2023-01-01         07:20:24   \n",
       "4           4               5       2023-01-01         07:22:41   \n",
       "\n",
       "   transaction_qty  store_id   store_location  product_id  unit_price  \\\n",
       "0                2         5  Lower Manhattan          32         3.0   \n",
       "1                2         5  Lower Manhattan          57         3.1   \n",
       "2                2         5  Lower Manhattan          59         4.5   \n",
       "3                1         5  Lower Manhattan          22         2.0   \n",
       "4                2         5  Lower Manhattan          57         3.1   \n",
       "\n",
       "     product_category           product_type               product_detail  \n",
       "0              Coffee  Gourmet brewed coffee                  Ethiopia Rg  \n",
       "1                 Tea        Brewed Chai tea     Spicy Eye Opener Chai Lg  \n",
       "2  Drinking Chocolate          Hot chocolate            Dark chocolate Lg  \n",
       "3              Coffee            Drip coffee  Our Old Time Diner Blend Sm  \n",
       "4                 Tea        Brewed Chai tea     Spicy Eye Opener Chai Lg  "
      ]
     },
     "execution_count": 4,
     "metadata": {},
     "output_type": "execute_result"
    }
   ],
   "source": [
    "import pandas as pd\n",
    "df = pd.read_csv(\"clean_coffee_shop_sales.csv\")\n",
    "\n",
    "df.head()\n"
   ]
  },
  {
   "cell_type": "code",
   "execution_count": 5,
   "metadata": {},
   "outputs": [
    {
     "name": "stdout",
     "output_type": "stream",
     "text": [
      "<class 'pandas.core.frame.DataFrame'>\n",
      "RangeIndex: 149116 entries, 0 to 149115\n",
      "Data columns (total 12 columns):\n",
      " #   Column            Non-Null Count   Dtype  \n",
      "---  ------            --------------   -----  \n",
      " 0   Unnamed: 0        149116 non-null  int64  \n",
      " 1   transaction_id    149116 non-null  int64  \n",
      " 2   transaction_date  149116 non-null  object \n",
      " 3   transaction_time  149116 non-null  object \n",
      " 4   transaction_qty   149116 non-null  int64  \n",
      " 5   store_id          149116 non-null  int64  \n",
      " 6   store_location    149116 non-null  object \n",
      " 7   product_id        149116 non-null  int64  \n",
      " 8   unit_price        149116 non-null  float64\n",
      " 9   product_category  149116 non-null  object \n",
      " 10  product_type      149116 non-null  object \n",
      " 11  product_detail    149116 non-null  object \n",
      "dtypes: float64(1), int64(5), object(6)\n",
      "memory usage: 13.7+ MB\n"
     ]
    }
   ],
   "source": [
    "df.info()"
   ]
  },
  {
   "cell_type": "code",
   "execution_count": 6,
   "metadata": {},
   "outputs": [
    {
     "name": "stdout",
     "output_type": "stream",
     "text": [
      "<class 'pandas.core.frame.DataFrame'>\n",
      "RangeIndex: 149116 entries, 0 to 149115\n",
      "Data columns (total 12 columns):\n",
      " #   Column            Non-Null Count   Dtype         \n",
      "---  ------            --------------   -----         \n",
      " 0   Unnamed: 0        149116 non-null  int64         \n",
      " 1   transaction_id    149116 non-null  int64         \n",
      " 2   transaction_date  149116 non-null  datetime64[ns]\n",
      " 3   transaction_time  149116 non-null  object        \n",
      " 4   transaction_qty   149116 non-null  int64         \n",
      " 5   store_id          149116 non-null  int64         \n",
      " 6   store_location    149116 non-null  object        \n",
      " 7   product_id        149116 non-null  int64         \n",
      " 8   unit_price        149116 non-null  float64       \n",
      " 9   product_category  149116 non-null  object        \n",
      " 10  product_type      149116 non-null  object        \n",
      " 11  product_detail    149116 non-null  object        \n",
      "dtypes: datetime64[ns](1), float64(1), int64(5), object(5)\n",
      "memory usage: 13.7+ MB\n"
     ]
    }
   ],
   "source": [
    "# convert date and time to its correct datatype\n",
    "df['transaction_date'] = pd.to_datetime(df['transaction_date'])\n",
    "df['transaction_time'] = pd.to_datetime(df['transaction_time'], format=\"%H:%M:%S\").dt.time\n",
    "df.info()"
   ]
  },
  {
   "cell_type": "code",
   "execution_count": 10,
   "metadata": {},
   "outputs": [
    {
     "data": {
      "text/plain": [
       "array(['2023-01', '2023-02', '2023-03', '2023-04', '2023-05', '2023-06'],\n",
       "      dtype=object)"
      ]
     },
     "execution_count": 10,
     "metadata": {},
     "output_type": "execute_result"
    }
   ],
   "source": [
    "# Get all unique month year\n",
    "# Extract the month and year and create a new column\n",
    "df['month_year'] = df['transaction_date'].dt.strftime('%Y-%m')\n",
    "\n",
    "# Get all unique month-year combinations\n",
    "unique_month_years = df['month_year'].unique()\n",
    "unique_month_years"
   ]
  },
  {
   "cell_type": "code",
   "execution_count": 12,
   "metadata": {},
   "outputs": [
    {
     "name": "stdout",
     "output_type": "stream",
     "text": [
      "Oldest datetime: 2023-01-01 00:00:00\n",
      "Newest datetime: 2023-06-30 00:00:00\n"
     ]
    }
   ],
   "source": [
    "oldest_datetime = df['transaction_date'].min()\n",
    "newest_datetime = df['transaction_date'].max()\n",
    "\n",
    "print(\"Oldest datetime:\", oldest_datetime)\n",
    "print(\"Newest datetime:\", newest_datetime)"
   ]
  },
  {
   "cell_type": "markdown",
   "metadata": {},
   "source": [
    "## Calculate the total sales for each respective month."
   ]
  },
  {
   "cell_type": "code",
   "execution_count": 28,
   "metadata": {},
   "outputs": [],
   "source": [
    "# create a function\n",
    "def total_monthly_sales (month,year):\n",
    "    try:\n",
    "        # Filter the DataFrame for the specified month and year\n",
    "        subset_df = df[df['transaction_date'].dt.strftime('%m,%Y') == f'{month:02d},{year}']\n",
    "        # 0: This indicates that the number should be zero-padded if it has fewer digits than the specified width.\n",
    "        # 2: This sets the width to two digits.\n",
    "        # d: This indicates that the value is an integer.\n",
    "        # f'{5:02d}' would format the number 5 as 05.\n",
    "        \n",
    "        # Calculate total sales for the selected month and year\n",
    "        total_sales = (subset_df['unit_price']*subset_df['transaction_qty']).sum()\n",
    "\n",
    "        return total_sales\n",
    "    except Exception as e:\n",
    "        print(f\"Ann error occured: {str(e)}\")\n",
    "        return None"
   ]
  },
  {
   "cell_type": "code",
   "execution_count": 29,
   "metadata": {},
   "outputs": [
    {
     "data": {
      "text/plain": [
       "156727.75999999998"
      ]
     },
     "execution_count": 29,
     "metadata": {},
     "output_type": "execute_result"
    }
   ],
   "source": [
    "# try using the function\n",
    "total_monthly_sales (5,2023)"
   ]
  },
  {
   "cell_type": "markdown",
   "metadata": {},
   "source": [
    "## Determine the month-on-month % increase or decrease in sales."
   ]
  },
  {
   "cell_type": "code",
   "execution_count": null,
   "metadata": {},
   "outputs": [],
   "source": [
    "# create a function for % change in monthly sales\n",
    "def percent_change_monthly (month,year)\n",
    "    "
   ]
  }
 ],
 "metadata": {
  "kernelspec": {
   "display_name": "env",
   "language": "python",
   "name": "python3"
  },
  "language_info": {
   "codemirror_mode": {
    "name": "ipython",
    "version": 3
   },
   "file_extension": ".py",
   "mimetype": "text/x-python",
   "name": "python",
   "nbconvert_exporter": "python",
   "pygments_lexer": "ipython3",
   "version": "3.11.4"
  }
 },
 "nbformat": 4,
 "nbformat_minor": 2
}
